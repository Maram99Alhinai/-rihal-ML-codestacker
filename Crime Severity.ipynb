{
 "cells": [
  {
   "cell_type": "markdown",
   "metadata": {},
   "source": [
    "# Level 2: Crime Classification & Severity Assignment\n",
    "Part B: Assigning Crime Severity\n",
    "- Classify each crime into the following severity levels based on its category:\n",
    "    - Severity 1: NON-CRIMINAL, SUSPICIOUS OCCURRENCE, MISSING PERSON, RUNAWAY, RECOVERED VEHICLE\n",
    "    - Severity 2: WARRANTS, OTHER OFFENSES, VANDALISM, TRESPASS, DISORDERLY CONDUCT, BAD CHECKS\n",
    "    - Severity 3: LARCENY/THEFT, VEHICLE THEFT, FORGERY/COUNTERFEITING, DRUG/NARCOTIC, STOLEN PROPERTY, FRAUD, BRIBERY, EMBEZZLEMENT\n",
    "    - Severity 4: ROBBERY, WEAPON LAWS, BURGLARY, EXTORTION\n",
    "    - Severity 5: KIDNAPPING, ARSON\n",
    "- This part can be implemented using simple conditional logic.\n",
    "- Output both predicted crime type and assigned severity.\n"
   ]
  },
  {
   "cell_type": "markdown",
   "metadata": {},
   "source": [
    "## Import librries "
   ]
  },
  {
   "cell_type": "code",
   "execution_count": 1,
   "metadata": {},
   "outputs": [],
   "source": [
    "import pandas as pd \n",
    "import joblib\n",
    "import re\n",
    "import string"
   ]
  },
  {
   "cell_type": "markdown",
   "metadata": {},
   "source": [
    "## Load the data"
   ]
  },
  {
   "cell_type": "code",
   "execution_count": null,
   "metadata": {},
   "outputs": [],
   "source": [
    "df = pd.read_csv('Dashboard/Competition_Dataset.csv')"
   ]
  },
  {
   "cell_type": "code",
   "execution_count": 3,
   "metadata": {},
   "outputs": [],
   "source": [
    "# Define the severity levels based on as catgory:\n",
    "Severity_1=['NON-CRIMINAL', 'SUSPICIOUS', 'OCCURRENCE', 'MISSING PERSON', 'RUNAWAY', 'RECOVERED VEHICLE']\n",
    "Severity_2=['WARRANTS', 'OTHER OFFENSES', 'VANDALISM', 'TRESPASS', 'DISORDERLY CONDUCT', 'BAD CHECKS']\n",
    "Severity_3=['LARCENY/THEFT', 'VEHICLE THEFT', 'FORGERY/COUNTERFEITING', 'DRUG/NARCOTIC', 'STOLEN PROPERTY', 'FRAUD', 'BRIBERY', 'EMBEZZLEMENT']\n",
    "Severity_4=['ROBBERY', 'WEAPON LAWS', 'BURGLARY', 'EXTORTION']\n",
    "Severity_5=['KIDNAPPING', 'ARSON']"
   ]
  },
  {
   "cell_type": "markdown",
   "metadata": {},
   "source": [
    "## Create the function to catgrize the crime Severty "
   ]
  },
  {
   "cell_type": "code",
   "execution_count": 4,
   "metadata": {},
   "outputs": [],
   "source": [
    "def classify_crime_severity(category):\n",
    "    \"\"\"\n",
    "    Function that takes the crime category as input\n",
    "    and classifies it into the corresponding severity level.\n",
    "    \"\"\"\n",
    "\n",
    "    # Define severity levels using a dictionary\n",
    "    severity_dict = {\n",
    "        'severity level 1': {'NON-CRIMINAL', 'SUSPICIOUS', 'OCCURRENCE', 'MISSING PERSON', 'RUNAWAY', 'RECOVERED VEHICLE'},\n",
    "        'severity level 2': {'WARRANTS', 'OTHER OFFENSES', 'VANDALISM', 'TRESPASS', 'DISORDERLY CONDUCT', 'BAD CHECKS'},\n",
    "        'severity level 3': {'LARCENY/THEFT', 'VEHICLE THEFT', 'FORGERY/COUNTERFEITING', 'DRUG/NARCOTIC', 'STOLEN PROPERTY', 'FRAUD', 'BRIBERY', 'EMBEZZLEMENT'},\n",
    "        'severity level 4': {'ROBBERY', 'WEAPON LAWS', 'BURGLARY', 'EXTORTION'},\n",
    "        'severity level 5': {'KIDNAPPING', 'ARSON'}\n",
    "    }\n",
    "\n",
    "    # Find the severity level\n",
    "    for severity, categories in severity_dict.items():\n",
    "        if category in categories:\n",
    "            return severity\n",
    "\n",
    "    return \"Sorry, this crime severity level is not defined.\"\n",
    "        "
   ]
  },
  {
   "cell_type": "markdown",
   "metadata": {},
   "source": [
    "## Test the function "
   ]
  },
  {
   "cell_type": "code",
   "execution_count": 5,
   "metadata": {},
   "outputs": [
    {
     "data": {
      "text/plain": [
       "'severity level 3'"
      ]
     },
     "execution_count": 5,
     "metadata": {},
     "output_type": "execute_result"
    }
   ],
   "source": [
    "classify_crime_severity(df['Category'][6])"
   ]
  },
  {
   "cell_type": "code",
   "execution_count": 6,
   "metadata": {},
   "outputs": [
    {
     "data": {
      "text/plain": [
       "'Sorry, this crime severity level is not defined.'"
      ]
     },
     "execution_count": 6,
     "metadata": {},
     "output_type": "execute_result"
    }
   ],
   "source": [
    "classify_crime_severity(\"Rondom\")"
   ]
  },
  {
   "cell_type": "markdown",
   "metadata": {},
   "source": [
    "## Combine both function and the model: \n",
    "To make system output both predicted crime type and assign severity."
   ]
  },
  {
   "cell_type": "markdown",
   "metadata": {},
   "source": [
    "### load the models and preprocess function"
   ]
  },
  {
   "cell_type": "code",
   "execution_count": 11,
   "metadata": {},
   "outputs": [],
   "source": [
    "rf_model = joblib.load(\"Models/crime_classification_model.pkl\")\n",
    "vectorizer = joblib.load(\"Models/tfidf_vectorizer.pkl\")"
   ]
  },
  {
   "cell_type": "code",
   "execution_count": 12,
   "metadata": {},
   "outputs": [],
   "source": [
    "def clean_text(text):\n",
    "    text = text.lower()  # Lowercase text\n",
    "    text = re.sub(r'\\d+', '', text)  # Remove numbers\n",
    "    text = text.translate(str.maketrans(\"\", \"\", string.punctuation))  # Remove punctuation\n",
    "    text = text.strip()  # Remove extra spaces\n",
    "    return text"
   ]
  },
  {
   "cell_type": "markdown",
   "metadata": {},
   "source": [
    "### Test the model"
   ]
  },
  {
   "cell_type": "code",
   "execution_count": 13,
   "metadata": {},
   "outputs": [],
   "source": [
    "Test_text = clean_text(df['Descript'][12])"
   ]
  },
  {
   "cell_type": "code",
   "execution_count": 14,
   "metadata": {},
   "outputs": [],
   "source": [
    "X = vectorizer.transform([Test_text])\n",
    "y = rf_model.predict(X)"
   ]
  },
  {
   "cell_type": "code",
   "execution_count": 15,
   "metadata": {},
   "outputs": [
    {
     "data": {
      "text/plain": [
       "'severity level 3'"
      ]
     },
     "execution_count": 15,
     "metadata": {},
     "output_type": "execute_result"
    }
   ],
   "source": [
    "classify_crime_severity(y[0])"
   ]
  },
  {
   "cell_type": "markdown",
   "metadata": {},
   "source": [
    "### Make function for all"
   ]
  },
  {
   "cell_type": "code",
   "execution_count": null,
   "metadata": {},
   "outputs": [],
   "source": [
    "def crime_category_and_severity(description):\n",
    "    \"\"\"\n",
    "    Predicts the crime category and severity level based on a given crime description.\n",
    "    \"\"\"\n",
    "    clean_description = clean_text(description)\n",
    "    vectorized_description = vectorizer.transform([clean_description])\n",
    "    category = rf_model.predict(vectorized_description)\n",
    "    severity = classify_crime_severity(category[0])\n",
    "    \n",
    "    print(f\"This crime belongs to the category '{category[0]}' with {severity}.\")\n",
    "    return category[0], severity\n"
   ]
  },
  {
   "cell_type": "code",
   "execution_count": 21,
   "metadata": {},
   "outputs": [
    {
     "name": "stdout",
     "output_type": "stream",
     "text": [
      "This crime belongs to the category 'WARRANTS' with severity level 2.\n"
     ]
    },
    {
     "data": {
      "text/plain": [
       "('WARRANTS', 'severity level 2')"
      ]
     },
     "execution_count": 21,
     "metadata": {},
     "output_type": "execute_result"
    }
   ],
   "source": [
    "crime_category_and_severity('WARRANT ARREST')"
   ]
  }
 ],
 "metadata": {
  "kernelspec": {
   "display_name": "Renv",
   "language": "python",
   "name": "python3"
  },
  "language_info": {
   "codemirror_mode": {
    "name": "ipython",
    "version": 3
   },
   "file_extension": ".py",
   "mimetype": "text/x-python",
   "name": "python",
   "nbconvert_exporter": "python",
   "pygments_lexer": "ipython3",
   "version": "3.11.4"
  }
 },
 "nbformat": 4,
 "nbformat_minor": 2
}
